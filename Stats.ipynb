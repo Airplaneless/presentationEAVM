{
 "cells": [
  {
   "cell_type": "code",
   "execution_count": 1,
   "metadata": {},
   "outputs": [],
   "source": [
    "import pandas as pd\n",
    "import seaborn as sns\n",
    "import statsmodels\n",
    "import pylab as plt\n",
    "import numpy as np"
   ]
  },
  {
   "cell_type": "code",
   "execution_count": 2,
   "metadata": {},
   "outputs": [],
   "source": [
    "plt.style.use('bmh')"
   ]
  },
  {
   "cell_type": "code",
   "execution_count": 3,
   "metadata": {},
   "outputs": [],
   "source": [
    "import statsmodels.formula.api as sm"
   ]
  },
  {
   "cell_type": "code",
   "execution_count": 4,
   "metadata": {},
   "outputs": [
    {
     "data": {
      "text/html": [
       "\n",
       "    <div class=\"bk-root\">\n",
       "        <a href=\"https://bokeh.pydata.org\" target=\"_blank\" class=\"bk-logo bk-logo-small bk-logo-notebook\"></a>\n",
       "        <span id=\"0fae689e-fdf6-4300-9eb7-46467e720855\">Loading BokehJS ...</span>\n",
       "    </div>"
      ]
     },
     "metadata": {},
     "output_type": "execute_result"
    },
    {
     "data": {},
     "metadata": {},
     "output_type": "display_data"
    }
   ],
   "source": [
    "from bokeh.plotting import figure, ColumnDataSource\n",
    "from bokeh.models import FuncTickFormatter, LabelSet, Label, ColumnDataSource, TextAnnotation\n",
    "from bokeh.models import HoverTool, ColorBar\n",
    "from bokeh.models.mappers import LinearColorMapper\n",
    "from bokeh.palettes import Inferno256\n",
    "from bokeh.io import show, push_notebook, output_notebook, output_file, curdoc\n",
    "from bokeh.models.widgets import Panel, Tabs\n",
    "from bokeh.models.widgets import Select\n",
    "from bokeh.layouts import column\n",
    "output_notebook()"
   ]
  },
  {
   "cell_type": "code",
   "execution_count": 5,
   "metadata": {},
   "outputs": [],
   "source": [
    "def RAD(deg):\n",
    "    return deg * np.pi / 180.0\n",
    "\n",
    "def GET_R2(data_lv, num_seg):\n",
    "    df = data_lv.loc[data_lv.Segm == num_seg]\n",
    "    result = sm.ols(formula=\"Voltage ~ WT\", data=df).fit()\n",
    "    return result.rsquared\n",
    "\n",
    "\n",
    "def GET_SLOPE(data_lv, num_seg):\n",
    "    df = data_lv.loc[data_lv.Segm == num_seg]\n",
    "    result = sm.ols(formula=\"Voltage ~ WT\", data=df).fit()\n",
    "    return result.params.WT"
   ]
  },
  {
   "cell_type": "code",
   "execution_count": 7,
   "metadata": {},
   "outputs": [
    {
     "data": {
      "text/html": [
       "\n",
       "\n",
       "\n",
       "\n",
       "\n",
       "\n",
       "  <div class=\"bk-root\" id=\"6b2f6a52-e054-4b23-993f-ffa8719fc532\"></div>\n"
      ]
     },
     "metadata": {},
     "output_type": "execute_result"
    },
    {
     "data": {},
     "metadata": {
      "application/vnd.bokehjs_exec.v0+json": {
       "id": "7ccca82a-018f-456d-b3f0-3afe34086bcb"
      }
     },
     "output_type": "display_data"
    }
   ],
   "source": [
    "output_file(\"bv.html\")\n",
    "\n",
    "tab_ls = list()\n",
    "\n",
    "for case in ['bv90_lv', 'bv90_2p', 'bv90_s20', 'bv90_s100']:\n",
    "    mapper = LinearColorMapper(palette=Inferno256, low=0.0, high=1.0)\n",
    "    color_bar = ColorBar(color_mapper=mapper, border_line_color=None, location=(0,0))\n",
    "    p = figure(title='Statistics for segments', plot_width=500, plot_height=700, x_range=(-10,10), y_range=(-10,10))\n",
    "    p.add_layout(color_bar, 'right')\n",
    "    p.toolbar.logo = None    \n",
    "    data = pd.read_csv('data/{}.csv'.format(case), index_col=0)\n",
    "    \n",
    "    s_apex = ColumnDataSource(data=dict(name=['17'], img=['plots/{}/17.png'.format(case)], r2=[GET_R2(data, 17)], slope=[GET_SLOPE(data, 17)]))\n",
    "\n",
    "    s_apical = [ColumnDataSource(data=dict(\n",
    "        name=['{}'.format(12 + i)],\n",
    "        img=['plots/{}/{}.png'.format(case, 12 + i)],\n",
    "        r2=[GET_R2(data, 12 + i)],\n",
    "        slope=[GET_SLOPE(data, 12 + i)])) for i in [4, 1, 2, 3]]\n",
    "\n",
    "    s_basal_1 = [ColumnDataSource(data=dict(\n",
    "        name=['{}'.format(6 + i)], img=['plots/{}/{}.png'.format(case, 6 + i)],\n",
    "        r2=[GET_R2(data, 6 + i)],\n",
    "        slope=[GET_SLOPE(data, 6 + i)])) for i in [6, 1, 2, 3, 4, 5]]\n",
    "\n",
    "    s_basal_2 = [ColumnDataSource(data=dict(\n",
    "        name=['{}'.format(i)],\n",
    "        img=['plots/{}/{}.png'.format(case, i)],\n",
    "        r2=[GET_R2(data, i)],\n",
    "        slope=[GET_SLOPE(data, i)])) for i in [6, 1, 2, 3, 4, 5]]\n",
    "            \n",
    "    r0 = 2\n",
    "    rd = 2\n",
    "    p.axis.visible = False\n",
    "    p.ellipse([0],[0],width=20,height=9.5,height_units='data', width_units='data',fill_color='white',line_width=6)\n",
    "    p.patch([0,10,10,0,0],[10,10,-10,-10,10],fill_color='white',line_color='white')\n",
    "    p.wedge(x=0, y=0, radius=r0, start_angle=RAD(0), end_angle=RAD(360), color={'field': 'r2', 'transform': mapper}, alpha=0.6, line_width=2, source=s_apex)\n",
    "    for i in range(0,4):\n",
    "        p.annular_wedge(x=0, y=0, inner_radius=r0, outer_radius=r0+rd, start_angle=RAD(-45+i*90), end_angle=RAD(45+i*90), \n",
    "                        color={'field': 'r2', 'transform': mapper}, alpha=0.6, line_width=2,\n",
    "                       source=s_apical[i])\n",
    "    r0 += rd\n",
    "    for i in range(6):\n",
    "        p.annular_wedge(x=0, y=0, inner_radius=r0, outer_radius=r0+rd, start_angle=RAD(0+i*60), end_angle=RAD(60+i*60), \n",
    "                        color={'field': 'r2', 'transform': mapper}, alpha=0.6, line_width=2,\n",
    "                       source=s_basal_1[i])\n",
    "    r0 += rd\n",
    "    for i in range(6):\n",
    "        p.annular_wedge(x=0, y=0, inner_radius=r0, outer_radius=r0+rd, start_angle=RAD(0+i*60), end_angle=RAD(60+i*60), \n",
    "                        color={'field': 'r2', 'transform': mapper}, alpha=0.6, line_width=2,\n",
    "                       source=s_basal_2[i])\n",
    "\n",
    "    p.add_tools(HoverTool(attachment=\"right\",\n",
    "        tooltips=\"\"\"\n",
    "        <div>\n",
    "            <div>\n",
    "                <span style=\"font-size: 12;\"><b>Segment</b>: @name</span><br />\n",
    "            </div>\n",
    "            <div>\n",
    "                <img\n",
    "                    src=\"@img\" height=\"360\" alt=\"@img\" width=\"120\"\n",
    "                    style=\"float: left; margin: 0px 15px 15px 0px;\"\n",
    "                    border=\"2\"\n",
    "                ></img>\n",
    "            </div>\n",
    "            <div>\n",
    "                <span style=\"font-size: 12;\"><b>R2</b>: @r2</span><br />\n",
    "                <span style=\"font-size: 12;\"><b>slope</b>: @slope</span><br />\n",
    "            </div>\n",
    "        </div>\n",
    "        \"\"\"\n",
    "    ))\n",
    "    tab_ls.append(Panel(child=p, title=case))\n",
    "\n",
    "\n",
    "tabs = Tabs(tabs=tab_ls)\n",
    "show(tabs)"
   ]
  },
  {
   "cell_type": "code",
   "execution_count": null,
   "metadata": {},
   "outputs": [],
   "source": []
  }
 ],
 "metadata": {
  "kernelspec": {
   "display_name": "Python 3",
   "language": "python",
   "name": "python3"
  },
  "language_info": {
   "codemirror_mode": {
    "name": "ipython",
    "version": 3
   },
   "file_extension": ".py",
   "mimetype": "text/x-python",
   "name": "python",
   "nbconvert_exporter": "python",
   "pygments_lexer": "ipython3",
   "version": "3.6.5"
  }
 },
 "nbformat": 4,
 "nbformat_minor": 2
}
