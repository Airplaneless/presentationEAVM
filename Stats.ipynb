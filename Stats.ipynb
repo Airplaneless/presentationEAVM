{
 "cells": [
  {
   "cell_type": "code",
   "execution_count": 1,
   "metadata": {},
   "outputs": [],
   "source": [
    "import pandas as pd\n",
    "import seaborn as sns\n",
    "import statsmodels\n",
    "import pylab as plt"
   ]
  },
  {
   "cell_type": "code",
   "execution_count": 2,
   "metadata": {},
   "outputs": [],
   "source": [
    "plt.style.use('bmh')"
   ]
  },
  {
   "cell_type": "code",
   "execution_count": 14,
   "metadata": {},
   "outputs": [],
   "source": [
    "data_lv = pd.read_csv('./data/bv90_2p.csv', index_col=0)"
   ]
  },
  {
   "cell_type": "code",
   "execution_count": 15,
   "metadata": {},
   "outputs": [
    {
     "data": {
      "text/html": [
       "<div>\n",
       "<style scoped>\n",
       "    .dataframe tbody tr th:only-of-type {\n",
       "        vertical-align: middle;\n",
       "    }\n",
       "\n",
       "    .dataframe tbody tr th {\n",
       "        vertical-align: top;\n",
       "    }\n",
       "\n",
       "    .dataframe thead th {\n",
       "        text-align: right;\n",
       "    }\n",
       "</style>\n",
       "<table border=\"1\" class=\"dataframe\">\n",
       "  <thead>\n",
       "    <tr style=\"text-align: right;\">\n",
       "      <th></th>\n",
       "      <th>Voltage</th>\n",
       "      <th>WT</th>\n",
       "      <th>Segm</th>\n",
       "    </tr>\n",
       "  </thead>\n",
       "  <tbody>\n",
       "    <tr>\n",
       "      <th>0</th>\n",
       "      <td>2.06457</td>\n",
       "      <td>31.0</td>\n",
       "      <td>6</td>\n",
       "    </tr>\n",
       "    <tr>\n",
       "      <th>1</th>\n",
       "      <td>2.56371</td>\n",
       "      <td>31.0</td>\n",
       "      <td>6</td>\n",
       "    </tr>\n",
       "    <tr>\n",
       "      <th>2</th>\n",
       "      <td>1.78623</td>\n",
       "      <td>31.0</td>\n",
       "      <td>5</td>\n",
       "    </tr>\n",
       "    <tr>\n",
       "      <th>3</th>\n",
       "      <td>1.98253</td>\n",
       "      <td>31.0</td>\n",
       "      <td>5</td>\n",
       "    </tr>\n",
       "    <tr>\n",
       "      <th>4</th>\n",
       "      <td>2.08212</td>\n",
       "      <td>31.0</td>\n",
       "      <td>1</td>\n",
       "    </tr>\n",
       "  </tbody>\n",
       "</table>\n",
       "</div>"
      ],
      "text/plain": [
       "   Voltage    WT  Segm\n",
       "0  2.06457  31.0     6\n",
       "1  2.56371  31.0     6\n",
       "2  1.78623  31.0     5\n",
       "3  1.98253  31.0     5\n",
       "4  2.08212  31.0     1"
      ]
     },
     "execution_count": 15,
     "metadata": {},
     "output_type": "execute_result"
    }
   ],
   "source": [
    "data_lv.head()"
   ]
  },
  {
   "cell_type": "code",
   "execution_count": 16,
   "metadata": {},
   "outputs": [],
   "source": [
    "import statsmodels.formula.api as sm"
   ]
  },
  {
   "cell_type": "code",
   "execution_count": 17,
   "metadata": {},
   "outputs": [
    {
     "data": {
      "text/html": [
       "\n",
       "    <div class=\"bk-root\">\n",
       "        <a href=\"https://bokeh.pydata.org\" target=\"_blank\" class=\"bk-logo bk-logo-small bk-logo-notebook\"></a>\n",
       "        <span id=\"dd64dd8d-9e25-47af-81f1-3bbb664cd707\">Loading BokehJS ...</span>\n",
       "    </div>"
      ]
     },
     "metadata": {},
     "output_type": "execute_result"
    },
    {
     "data": {},
     "metadata": {},
     "output_type": "display_data"
    }
   ],
   "source": [
    "from bokeh.plotting import figure, ColumnDataSource\n",
    "from bokeh.models import FuncTickFormatter, LabelSet, Label, ColumnDataSource, TextAnnotation\n",
    "from bokeh.models import HoverTool\n",
    "from bokeh.io import show, push_notebook, output_notebook, output_file\n",
    "output_notebook()"
   ]
  },
  {
   "cell_type": "code",
   "execution_count": 18,
   "metadata": {},
   "outputs": [],
   "source": [
    "import numpy as np"
   ]
  },
  {
   "cell_type": "code",
   "execution_count": 19,
   "metadata": {},
   "outputs": [],
   "source": [
    "def RAD(deg):\n",
    "    return deg * np.pi / 180.0"
   ]
  },
  {
   "cell_type": "code",
   "execution_count": 20,
   "metadata": {},
   "outputs": [],
   "source": [
    "def CREATE_STATS_PLOTS(num_seg):\n",
    "    df = data_lv.loc[data_lv.Segm == num_seg]\n",
    "    result = sm.ols(formula=\"Voltage ~ WT\", data=df).fit()\n",
    "    fig, ax = plt.subplots(ncols=3, figsize=(12,4))\n",
    "    fig.tight_layout(pad=1)\n",
    "    sns.pointplot(x='WT', y='Voltage', data=df, ax=ax[2])\n",
    "    ax[2].set_title('Conf. intervals')\n",
    "    sns.regplot(x='WT', y='Voltage', data=df, ax=ax[0])\n",
    "    ax[0].set_title('Regression plot')\n",
    "    sns.distplot(result.resid, ax=ax[1])\n",
    "    ax[1].set_title('Residuals')\n",
    "    plt.savefig('./segments_plot/pic/{}.png'.format(num_seg))\n",
    "    plt.close()\n",
    "    \n",
    "def GET_R2(num_seg):\n",
    "    df = data_lv.loc[data_lv.Segm == num_seg]\n",
    "    result = sm.ols(formula=\"Voltage ~ WT\", data=df).fit()\n",
    "    return result.rsquared\n",
    "\n",
    "def GET_SLOPE(num_seg):\n",
    "    df = data_lv.loc[data_lv.Segm == num_seg]\n",
    "    result = sm.ols(formula=\"Voltage ~ WT\", data=df).fit()\n",
    "    return result.params.WT"
   ]
  },
  {
   "cell_type": "code",
   "execution_count": 21,
   "metadata": {},
   "outputs": [
    {
     "name": "stderr",
     "output_type": "stream",
     "text": [
      "  0%|          | 0/17 [00:00<?, ?it/s]/usr/local/lib/python3.6/dist-packages/seaborn/categorical.py:1460: FutureWarning: remove_na is deprecated and is a private function. Do not use.\n",
      "  stat_data = remove_na(group_data)\n",
      "/usr/local/lib/python3.6/dist-packages/matplotlib/axes/_axes.py:6571: UserWarning: The 'normed' kwarg is deprecated, and has been replaced by the 'density' kwarg.\n",
      "  warnings.warn(\"The 'normed' kwarg is deprecated, and has been \"\n",
      "100%|██████████| 17/17 [00:12<00:00,  1.31it/s]\n"
     ]
    }
   ],
   "source": [
    "# Creating sources for plot\n",
    "from tqdm import tqdm\n",
    "\n",
    "for n in tqdm(range(1, 18)):\n",
    "    CREATE_STATS_PLOTS(n)"
   ]
  },
  {
   "cell_type": "code",
   "execution_count": 22,
   "metadata": {},
   "outputs": [],
   "source": [
    "s_apex = ColumnDataSource(\n",
    "    data = dict(name=['17'], img=['./pic/17.png'], r2=[GET_R2(17)], slope=[GET_SLOPE(17)])\n",
    ")\n",
    "\n",
    "s_apical = [ColumnDataSource(data = dict(\n",
    "    name=['{}'.format(12 + i)], \n",
    "    img=['./pic/{}.png'.format(12 + i)], \n",
    "    r2=[GET_R2(12+i)], \n",
    "    slope=[GET_SLOPE(12+i)])) for i in [4,1,2,3]]\n",
    "\n",
    "s_basal_1 = [ColumnDataSource(data = dict(\n",
    "    name=['{}'.format(6 + i)], img=['./pic/{}.png'.format(6 + i)], \n",
    "    r2=[GET_R2(6+i)], \n",
    "    slope=[GET_SLOPE(6+i)])) for i in [6,1,2,3,4,5]]\n",
    "\n",
    "s_basal_2 = [ColumnDataSource(data = dict(\n",
    "    name=['{}'.format(i)], \n",
    "    img=['./pic/{}.png'.format(i)], \n",
    "    r2=[GET_R2(i)], \n",
    "    slope=[GET_SLOPE(i)])) for i in [6,1,2,3,4,5]]"
   ]
  },
  {
   "cell_type": "code",
   "execution_count": 23,
   "metadata": {},
   "outputs": [
    {
     "data": {
      "text/html": [
       "\n",
       "\n",
       "\n",
       "\n",
       "\n",
       "\n",
       "  <div class=\"bk-root\" id=\"30cb6110-8f67-4682-8884-6cf314d52122\"></div>\n"
      ]
     },
     "metadata": {},
     "output_type": "execute_result"
    },
    {
     "data": {},
     "metadata": {
      "application/vnd.bokehjs_exec.v0+json": {
       "id": "57d50bfa-c461-4e50-8ea4-cf38bfd38425"
      }
     },
     "output_type": "display_data"
    }
   ],
   "source": [
    "p = figure(plot_width=900, plot_height=900, x_range=(-10,10), y_range=(-10,10))\n",
    "\n",
    "r0 = 2\n",
    "rd = 2\n",
    "p.axis.visible = False\n",
    "p.ellipse([0],[0],width=20,height=15.3,height_units='data', width_units='data',fill_color='white',line_width=6)\n",
    "p.patch([0,10,10,0,0],[10,10,-10,-10,10],fill_color='white',line_color='white')\n",
    "p.wedge(x=0, y=0, radius=r0, start_angle=RAD(0), end_angle=RAD(360), color=\"firebrick\", alpha=0.6, source=s_apex)\n",
    "for i in range(0,4):\n",
    "    p.annular_wedge(x=0, y=0, inner_radius=r0, outer_radius=r0+rd, start_angle=RAD(-45+i*90), end_angle=RAD(45+i*90), color=\"green\", alpha=0.6, \n",
    "                   source=s_apical[i])\n",
    "r0 += rd\n",
    "for i in range(6):\n",
    "    p.annular_wedge(x=0, y=0, inner_radius=r0, outer_radius=r0+rd, start_angle=RAD(0+i*60), end_angle=RAD(60+i*60), color=\"red\", alpha=0.6, \n",
    "                   source=s_basal_1[i])\n",
    "r0 += rd\n",
    "for i in range(6):\n",
    "    p.annular_wedge(x=0, y=0, inner_radius=r0, outer_radius=r0+rd, start_angle=RAD(0+i*60), end_angle=RAD(60+i*60), color=\"blue\", alpha=0.6, \n",
    "                   source=s_basal_2[i])\n",
    "\n",
    "p.add_tools(HoverTool(attachment=\"right\",\n",
    "    tooltips=\"\"\"\n",
    "    <div>\n",
    "        <div>\n",
    "            <span style=\"font-size: 12;\"><b>Segment</b>: @name</span><br />\n",
    "        </div>\n",
    "        <div>\n",
    "            <img\n",
    "                src=\"@img\" height=\"200\" alt=\"@img\" width=\"600\"\n",
    "                style=\"float: left; margin: 0px 15px 15px 0px;\"\n",
    "                border=\"2\"\n",
    "            ></img>\n",
    "        </div>\n",
    "        <div>\n",
    "            <span style=\"font-size: 12;\"><b>R2</b>: @r2</span><br />\n",
    "            <span style=\"font-size: 12;\"><b>slope</b>: @slope</span><br />\n",
    "        </div>\n",
    "    </div>\n",
    "    \"\"\"\n",
    "))\n",
    "output_file(\"./segments_plot/plot.html\")\n",
    "t = show(p, notebook_handle=False)"
   ]
  },
  {
   "cell_type": "code",
   "execution_count": null,
   "metadata": {},
   "outputs": [],
   "source": []
  }
 ],
 "metadata": {
  "kernelspec": {
   "display_name": "Python 3",
   "language": "python",
   "name": "python3"
  },
  "language_info": {
   "codemirror_mode": {
    "name": "ipython",
    "version": 3
   },
   "file_extension": ".py",
   "mimetype": "text/x-python",
   "name": "python",
   "nbconvert_exporter": "python",
   "pygments_lexer": "ipython3",
   "version": "3.6.5"
  }
 },
 "nbformat": 4,
 "nbformat_minor": 2
}
